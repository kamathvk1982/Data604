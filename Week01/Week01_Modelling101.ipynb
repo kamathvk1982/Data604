{
 "cells": [
  {
   "cell_type": "markdown",
   "metadata": {},
   "source": [
    "#### Simulation for  a simple game of chance:\n",
    "\n",
    "Shuffle a deck of card and pick First 3 cards : Chances of getting all 3 of same Suit (clubs (♣), diamonds (♦), hearts (♥) and spades (♠)) **or** all 3 are of same Number.\n"
   ]
  },
  {
   "cell_type": "code",
   "execution_count": 30,
   "metadata": {},
   "outputs": [],
   "source": [
    "# importing modules:\n",
    "import itertools, random\n",
    "import matplotlib.pyplot as plt"
   ]
  },
  {
   "cell_type": "markdown",
   "metadata": {},
   "source": [
    "We will now create the deck of 52 cards, 14 in each Suit"
   ]
  },
  {
   "cell_type": "code",
   "execution_count": 34,
   "metadata": {},
   "outputs": [],
   "source": [
    "# variable myDeck to hold the 52 cards:\n",
    "myDeck = list(itertools.product(range(1,14),['Spade','Heart','Diamond','Club']))\n",
    "#Variable for counting number of hits\n",
    "hitNumber = 0\n",
    "hitSuite = 0\n",
    "#Variables for storing each run 3 cards\n",
    "cardNumber = []\n",
    "cardSuite = []\n"
   ]
  },
  {
   "cell_type": "markdown",
   "metadata": {},
   "source": [
    "We will now do 1000 picks of 3 card each and after each pick we will reshuffle the card. "
   ]
  },
  {
   "cell_type": "code",
   "execution_count": 35,
   "metadata": {},
   "outputs": [
    {
     "name": "stdout",
     "output_type": "stream",
     "text": [
      "Got a Hit on Suite Matching on Run  1\n",
      "Got a Hit on Suite Matching on Run  33\n",
      "Got a Hit on Suite Matching on Run  47\n",
      "Got a Hit on Suite Matching on Run  53\n",
      "Got a Hit on Number Matching on Run  68\n",
      "Got a Hit on Suite Matching on Run  92\n",
      "Got a Hit on Suite Matching on Run  136\n",
      "Got a Hit on Suite Matching on Run  155\n",
      "Got a Hit on Suite Matching on Run  166\n",
      "Got a Hit on Suite Matching on Run  168\n",
      "Got a Hit on Suite Matching on Run  175\n",
      "Got a Hit on Suite Matching on Run  190\n",
      "Got a Hit on Suite Matching on Run  203\n",
      "Got a Hit on Suite Matching on Run  216\n",
      "Got a Hit on Number Matching on Run  220\n",
      "Got a Hit on Suite Matching on Run  273\n",
      "Got a Hit on Suite Matching on Run  342\n",
      "Got a Hit on Suite Matching on Run  344\n",
      "Got a Hit on Suite Matching on Run  387\n",
      "Got a Hit on Suite Matching on Run  414\n",
      "Got a Hit on Suite Matching on Run  440\n",
      "Got a Hit on Suite Matching on Run  446\n",
      "Got a Hit on Suite Matching on Run  451\n",
      "Got a Hit on Suite Matching on Run  453\n",
      "Got a Hit on Suite Matching on Run  502\n",
      "Got a Hit on Suite Matching on Run  508\n",
      "Got a Hit on Suite Matching on Run  533\n",
      "Got a Hit on Suite Matching on Run  534\n",
      "Got a Hit on Suite Matching on Run  571\n",
      "Got a Hit on Suite Matching on Run  572\n",
      "Got a Hit on Suite Matching on Run  579\n",
      "Got a Hit on Suite Matching on Run  589\n",
      "Got a Hit on Suite Matching on Run  593\n",
      "Got a Hit on Suite Matching on Run  611\n",
      "Got a Hit on Suite Matching on Run  619\n",
      "Got a Hit on Suite Matching on Run  624\n",
      "Got a Hit on Suite Matching on Run  625\n",
      "Got a Hit on Suite Matching on Run  645\n",
      "Got a Hit on Suite Matching on Run  649\n",
      "Got a Hit on Suite Matching on Run  654\n",
      "Got a Hit on Suite Matching on Run  668\n",
      "Got a Hit on Suite Matching on Run  677\n",
      "Got a Hit on Suite Matching on Run  700\n",
      "Got a Hit on Suite Matching on Run  703\n",
      "Got a Hit on Suite Matching on Run  727\n",
      "Got a Hit on Suite Matching on Run  753\n",
      "Got a Hit on Suite Matching on Run  758\n",
      "Got a Hit on Suite Matching on Run  804\n",
      "Got a Hit on Suite Matching on Run  806\n",
      "Got a Hit on Suite Matching on Run  811\n",
      "Got a Hit on Suite Matching on Run  817\n",
      "Got a Hit on Suite Matching on Run  818\n",
      "Got a Hit on Suite Matching on Run  830\n",
      "Got a Hit on Suite Matching on Run  835\n",
      "Got a Hit on Suite Matching on Run  860\n",
      "Got a Hit on Suite Matching on Run  879\n",
      "Got a Hit on Suite Matching on Run  908\n",
      "Got a Hit on Suite Matching on Run  912\n",
      "Got a Hit on Suite Matching on Run  913\n",
      "Got a Hit on Suite Matching on Run  932\n",
      "Got a Hit on Suite Matching on Run  936\n",
      "Got a Hit on Suite Matching on Run  941\n",
      "Got a Hit on Suite Matching on Run  957\n",
      "Got a Hit on Suite Matching on Run  971\n",
      "Total Hits  64\n",
      "Total Hits per Suite  62\n",
      "Total Hits per Number  2\n"
     ]
    }
   ],
   "source": [
    "# two for loops here: one for 1000 runs and another for picking 3 cards in each run:\n",
    "for run in range(1000):\n",
    "    #print(\"Run:\", run)\n",
    "    random.shuffle(myDeck)\n",
    "    #Reinitialize the variable for each run:\n",
    "    cardNumber = []\n",
    "    cardSuite = []\n",
    "    for pick in range(3):\n",
    "        #print(myDeck[pick][0], \"of\", myDeck[pick][1])\n",
    "        cardNumber.append(myDeck[pick][0])\n",
    "        cardSuite.append(myDeck[pick][1])\n",
    "    #print(cardNumber[0] , cardNumber[1] , cardNumber[2])\n",
    "    if cardNumber[0] == cardNumber[1] and cardNumber[1] == cardNumber[2] :\n",
    "        print(\"Got a Hit on Number Matching on Run \", run )\n",
    "        hitNumber += 1\n",
    "    #print(cardSuite[0] , cardSuite[1] , cardSuite[2])\n",
    "    if cardSuite[0] == cardSuite[1] and cardSuite[1] == cardSuite[2] :\n",
    "        print(\"Got a Hit on Suite Matching on Run \", run )\n",
    "        hitSuite +=1\n",
    "print(\"Total Hits \", hitSuite + hitNumber)\n",
    "print(\"Total Hits per Suite \", hitSuite)\n",
    "print(\"Total Hits per Number \", hitNumber)\n",
    "\n"
   ]
  },
  {
   "cell_type": "code",
   "execution_count": 38,
   "metadata": {},
   "outputs": [
    {
     "data": {
      "image/png": "[encoded data removed]",
      "text/plain": [
       "<Figure size 432x288 with 1 Axes>"
      ]
     },
     "metadata": {
      "needs_background": "light"
     },
     "output_type": "display_data"
    }
   ],
   "source": [
    "# Plotting Bar Graph:\n",
    "#data = [23, 45, 56, 78, 213]\n",
    "plt.bar([\"Suite\",\"Number\"],[hitSuite, hitNumber] )\n",
    "plt.ylabel('Hits Count')\n",
    "plt.title('Game of Chance')\n",
    "\n",
    "plt.show()"
   ]
  },
  {
   "cell_type": "markdown",
   "metadata": {},
   "source": [
    "On multiple simulation for this 1000 runs, the match on Suite was more likely then a match on Number.\n",
    "\n",
    "This makes sense as there are 14 card for each Suite but only 4 card for a number.\n",
    "\n",
    "Next : Make it better by having equal weightage to Suite and Numbers.\n"
   ]
  }
 ],
 "metadata": {
  "kernelspec": {
   "display_name": "Python 3",
   "language": "python",
   "name": "python3"
  },
  "language_info": {
   "codemirror_mode": {
    "name": "ipython",
    "version": 3
   },
   "file_extension": ".py",
   "mimetype": "text/x-python",
   "name": "python",
   "nbconvert_exporter": "python",
   "pygments_lexer": "ipython3",
   "version": "3.8.0"
  }
 },
 "nbformat": 4,
 "nbformat_minor": 4
}
